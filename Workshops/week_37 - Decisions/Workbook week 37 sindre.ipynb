{
 "cells": [
  {
   "cell_type": "code",
   "execution_count": 39,
   "id": "ab7458a2",
   "metadata": {},
   "outputs": [
    {
     "name": "stdout",
     "output_type": "stream",
     "text": [
      "lower bound: 5\n",
      "higher bound 9\n",
      "8\n"
     ]
    }
   ],
   "source": [
    "# Exercise 1\n",
    "lower = input('Please enter a lower bound: ')\n",
    "upper = input('Please enter an upper bound: ')\n",
    "\n",
    "# check that the user has entered digits only\n",
    "if lower.isdigit() and upper.isdigit():\n",
    "    \n",
    "    # convert inputs to int\n",
    "    lower = int(lower)\n",
    "    upper = int(upper)\n",
    "    \n",
    "    # check that the user has entered valid bounds\n",
    "    if lower > upper:\n",
    "        print('\\nInvalid inputs!')\n",
    "        print('You must enter a lower bound that is lower than the upper bound.')\n",
    "    \n",
    "    else:\n",
    "        # draw random number\n",
    "        rand_num = random.randint(lower, upper)\n",
    "        print('\\nYou asked for a random number between {} and {}.'.format(lower, upper))\n",
    "        print('Your random draw is... {}!'.format(rand_num))\n",
    "    \n",
    "else:\n",
    "    print('\\nInvalid inputs!')\n",
    "    print('You can only enter whole numbers.')\n",
    "    "
   ]
  },
  {
   "cell_type": "code",
   "execution_count": 49,
   "id": "4fdbf094",
   "metadata": {},
   "outputs": [
    {
     "name": "stdout",
     "output_type": "stream",
     "text": [
      "How many assignments have you completed?5\n",
      "How many assignments have you been given?5\n",
      "you can take the exam!\n"
     ]
    }
   ],
   "source": [
    "# Exercise 2 \n",
    "### With IF statements! \n",
    "completed = input(\"How many assignments have you completed?\")\n",
    "given = input(\"How many assignments have you been given?\")\n",
    "\n",
    "if completed.isdigit() and given.isdigit():\n",
    "    completed = int(completed)\n",
    "    given = int(given)\n",
    "    \n",
    "    if given >= completed:\n",
    "        \n",
    "        if given > 0:\n",
    "            \n",
    "            if completed == given:\n",
    "                print(\"you can take the exam!\")\n",
    "                \n",
    "            else: \n",
    "                print(\"You have not completed enough assignments to take the exam!\")\n",
    "            \n",
    "        else: \n",
    "            print(\"Error: you have inputted negative numbers\")\n",
    "        \n",
    "    else: print(\"ERROR: You have submitted that you have completed more tasks than given\")\n",
    "\n",
    "else:\n",
    "    print('\\nInvalid inputs!')\n",
    "    print('You can only enter whole numbers.')\n",
    "        "
   ]
  },
  {
   "cell_type": "code",
   "execution_count": 56,
   "id": "3339d550",
   "metadata": {},
   "outputs": [
    {
     "name": "stdout",
     "output_type": "stream",
     "text": [
      "How many assignments have you completed?10\n",
      "How many assignments have you been given?5\n",
      "Error. You have completed more assignments than given\n"
     ]
    }
   ],
   "source": [
    "# Exercise 2 \n",
    "### With ELIF statements! \n",
    "completed = int(input(\"How many assignments have you completed?\"))\n",
    "given = int(input(\"How many assignments have you been given?\"))\n",
    "\n",
    "if completed < 0 or given < 0:\n",
    "    print(\"Invalid. Your inputs are negative\")\n",
    "    \n",
    "elif given < completed: \n",
    "    print(\"Error. You have completed more assignments than given\")\n",
    "\n",
    "elif completed != given:\n",
    "    print(\"You hav not completed all tasks, no exam for you!\")\n",
    "    \n",
    "else: \n",
    "    print(\"You are ready for your exam! \")\n"
   ]
  },
  {
   "cell_type": "code",
   "execution_count": 66,
   "id": "66d75f36",
   "metadata": {},
   "outputs": [
    {
     "name": "stdout",
     "output_type": "stream",
     "text": [
      "Prisoner A, you are up.\n",
      "Press 1 for \"confess\", press 2 for \"stay silent\": 2\n",
      "Prisoner B, you are up.\n",
      "Press 1 for \"confess\", press 2 for \"stay silent\": 2\n",
      "Both prisoners betrays, both serves 2 years\n"
     ]
    }
   ],
   "source": [
    "# Exercise 3\n",
    "a = int(input('Prisoner A, you are up.\\nPress 1 for \"confess\", press 2 for \"stay silent\": '))\n",
    "b = int(input('Prisoner B, you are up.\\nPress 1 for \"confess\", press 2 for \"stay silent\": '))\n",
    "\n",
    "if a == 1 and b == 1: \n",
    "    print(\"You both serve one year\")\n",
    "\n",
    "elif a == 2 and b == 1:\n",
    "    print(\"Prisoner A goes free, prisoner B serves 3 years.\")\n",
    "\n",
    "elif a == 2 and b == 2: \n",
    "    print(\"Both prisoners betrays, both serves 2 years\")\n",
    "\n",
    "elif a == 1 and b == 2: \n",
    "    print(\"Prisoner A serves 3 years, Prisoner B goews free.\")\n",
    "\n",
    "else:\n",
    "    print('INVALID INPUT')\n"
   ]
  },
  {
   "cell_type": "code",
   "execution_count": 74,
   "id": "b986bc3a",
   "metadata": {},
   "outputs": [
    {
     "name": "stdout",
     "output_type": "stream",
     "text": [
      "temperatur?5\n",
      "Which temp do you want to convert from?Celsius\n",
      "which temp do you want to convert to?Fahren\n",
      "41.0\n"
     ]
    }
   ],
   "source": [
    "# Exercise 4\n",
    "temp = int(input(\"temperatur?\"))\n",
    "conv_from = str(input(\"Which temp do you want to convert from?\"))\n",
    "conv_to = str(input(\"which temp do you want to convert to?\"))\n",
    "\n",
    "if conv_from == \"C\" and conv_to == \"F\":\n",
    "    F = ((9/5)*temp)+32\n",
    "    print(F)\n",
    "\n",
    "elif conf_from ==\"C\" and conv_to = \"K\": \n",
    "    K = temp + 273.15\n",
    "    print(\"T\")\n",
    "    \n",
    "elif conf_from == \"F\" and conv_to = \"K\": \n",
    "    K = (temp-32)*5/9 + 273.15\n",
    "    \n",
    "elif conf_from == \"F\" and conv_to =\"C\": \n",
    "    \n",
    "else: \n",
    "    print(\"invalid\")"
   ]
  },
  {
   "cell_type": "code",
   "execution_count": null,
   "id": "c6d4d088",
   "metadata": {},
   "outputs": [],
   "source": []
  }
 ],
 "metadata": {
  "kernelspec": {
   "display_name": "Python 3",
   "language": "python",
   "name": "python3"
  },
  "language_info": {
   "codemirror_mode": {
    "name": "ipython",
    "version": 3
   },
   "file_extension": ".py",
   "mimetype": "text/x-python",
   "name": "python",
   "nbconvert_exporter": "python",
   "pygments_lexer": "ipython3",
   "version": "3.8.8"
  }
 },
 "nbformat": 4,
 "nbformat_minor": 5
}
