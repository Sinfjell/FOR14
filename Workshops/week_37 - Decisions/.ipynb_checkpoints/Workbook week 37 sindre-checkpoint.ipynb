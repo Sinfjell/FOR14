{
 "cells": [
  {
   "cell_type": "code",
   "execution_count": 1,
   "id": "82412988",
   "metadata": {},
   "outputs": [
    {
     "name": "stdout",
     "output_type": "stream",
     "text": [
      "lower bound: 5\n",
      "higher bound 8\n",
      "7\n"
     ]
    }
   ],
   "source": [
    "# Exercise 1 \n",
    "low_bound = int(input(\"lower bound: \"))\n",
    "upper_bound = int(input(\"higher bound \"))\n",
    "import random\n",
    "print(random.randint(low_bound,upper_bound))"
   ]
  },
  {
   "cell_type": "code",
   "execution_count": null,
   "id": "dea757a7",
   "metadata": {},
   "outputs": [],
   "source": []
  }
 ],
 "metadata": {
  "kernelspec": {
   "display_name": "Python 3",
   "language": "python",
   "name": "python3"
  },
  "language_info": {
   "codemirror_mode": {
    "name": "ipython",
    "version": 3
   },
   "file_extension": ".py",
   "mimetype": "text/x-python",
   "name": "python",
   "nbconvert_exporter": "python",
   "pygments_lexer": "ipython3",
   "version": "3.8.8"
  }
 },
 "nbformat": 4,
 "nbformat_minor": 5
}
