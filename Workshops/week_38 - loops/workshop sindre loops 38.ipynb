{
 "cells": [
  {
   "cell_type": "markdown",
   "id": "aac3dabf",
   "metadata": {},
   "source": [
    "# Pseudocode exercise 1a\n",
    "Input: upper, lower, no_draws\n",
    "Output: random numbers\n",
    "i ←0\n",
    "while i < no_draws do\n",
    "    Draw random number between upper and lower Print random number\n",
    "    i ←i + 1\n",
    "end while"
   ]
  },
  {
   "cell_type": "code",
   "execution_count": 7,
   "id": "d9baf288",
   "metadata": {},
   "outputs": [
    {
     "name": "stdout",
     "output_type": "stream",
     "text": [
      "*************************************************\n",
      "**** Welcome to the random number generator! ****\n",
      "*************************************************\n",
      "\n",
      "This program draws a random number between an upper and lower bound.\n",
      "Please enter a lower bound: 1\n",
      "Please enter an upper bound: 9\n",
      "Please enter number of draws: 8\n",
      "5\n",
      "4\n",
      "5\n",
      "2\n",
      "5\n",
      "4\n",
      "6\n",
      "2\n"
     ]
    }
   ],
   "source": [
    "### \n",
    "\n",
    "import random\n",
    "\n",
    "# welcome message\n",
    "print('*'*49)\n",
    "print('**** Welcome to the random number generator! ****')\n",
    "print('*'*49)\n",
    "print('\\nThis program draws a random number between an upper and lower bound.')\n",
    "\n",
    "# get bounds from user\n",
    "lower = int(input('Please enter a lower bound: '))\n",
    "upper = int(input('Please enter an upper bound: '))\n",
    "draws = int(input(\"Please enter number of draws: \"))\n",
    "i = 0\n",
    "\n",
    "# Display random numbers within bound and according to draws\n",
    "while i < draws: \n",
    "    rand_num = random.randint(lower, upper)\n",
    "    i += 1\n",
    "    # i = i + 1\n",
    "    print(rand_num)\n",
    "    "
   ]
  },
  {
   "cell_type": "markdown",
   "id": "f41c9e34",
   "metadata": {},
   "source": [
    "# Pseudocode exercise 1 b\n",
    "Input: upper, lower, no_draws\n",
    "Output: random numbers\n",
    "\n",
    "for i in \n",
    "i < no_draws do\n",
    "Draw random number between upper and lower Print random number\n",
    "i ←i + 1\n",
    "end while"
   ]
  },
  {
   "cell_type": "code",
   "execution_count": 14,
   "id": "8406806c",
   "metadata": {},
   "outputs": [
    {
     "name": "stdout",
     "output_type": "stream",
     "text": [
      "*************************************************\n",
      "**** Welcome to the random number generator! ****\n",
      "*************************************************\n",
      "\n",
      "This program draws a random number between an upper and lower bound.\n",
      "Please enter a lower bound: 1\n",
      "Please enter an upper bound: 555\n",
      "Please enter number of draws: 5\n",
      "First random number in interation 0 is 370\n",
      "First random number in interation 1 is 289\n",
      "First random number in interation 2 is 321\n",
      "First random number in interation 3 is 375\n",
      "First random number in interation 4 is 472\n"
     ]
    }
   ],
   "source": [
    "### Alternative 1 (random module + nested if-else statement)\n",
    "\n",
    "import random\n",
    "\n",
    "# welcome message\n",
    "print('*'*49)\n",
    "print('**** Welcome to the random number generator! ****')\n",
    "print('*'*49)\n",
    "print('\\nThis program draws a random number between an upper and lower bound.')\n",
    "\n",
    "# get bounds from user\n",
    "lower = int(input('Please enter a lower bound: '))\n",
    "upper = int(input('Please enter an upper bound: '))\n",
    "draws = int(input(\"Please enter number of draws: \"))\n",
    "i = 1\n",
    "\n",
    "# Display random numbers within bound and according to draws\n",
    "for i in range(draws): \n",
    "    rand_num = random.randint(lower, upper)\n",
    "    print(\"First random number in interation {} is {}\".format(i, rand_num))"
   ]
  },
  {
   "cell_type": "code",
   "execution_count": 22,
   "id": "5fdf3852",
   "metadata": {},
   "outputs": [
    {
     "name": "stdout",
     "output_type": "stream",
     "text": [
      "**********************************\n",
      "Welcome to the Prisoner's Dilemma.\n",
      "**********************************\n",
      "Prisoner A, you are up.\n",
      "Press 1 for \"confess\", press 2 for \"stay silent\": 3\n",
      "Prisoner B, you are up.\n",
      "Press 1 for \"confess\", press 2 for \"stay silent\": 3\n",
      "Invalid input prisoner A!\n",
      "Press 1 for \"confess\", press 2 for \"stay silent\": 1\n",
      "Invalid input prisoner B\n",
      "Press 1 for \"confess\", press 2 for \"stay silent\": 2\n",
      "\n",
      "Prisoner A gets 3 years, prisoner B goes free.\n"
     ]
    }
   ],
   "source": [
    "# EXERCISE 2 - While loop\n",
    "print('**********************************')\n",
    "print(\"Welcome to the Prisoner's Dilemma.\")\n",
    "print('**********************************')\n",
    "\n",
    "choiceA = input('Prisoner A, you are up.\\nPress 1 for \"confess\", press 2 for \"stay silent\": ')\n",
    "choiceB = input('Prisoner B, you are up.\\nPress 1 for \"confess\", press 2 for \"stay silent\": ')\n",
    "\n",
    "while choiceA != \"1\" and choiceA != \"2\": \n",
    "    print(\"Invalid input prisoner A!\")\n",
    "    choiceA = input('Press 1 for \"confess\", press 2 for \"stay silent\": ')\n",
    "    \n",
    "while choiceB != \"1\" and choiceB != \"2\": \n",
    "    print(\"Invalid input prisoner B\")\n",
    "    choiceB = input('Press 1 for \"confess\", press 2 for \"stay silent\": ')    \n",
    "\n",
    "if choiceA == '1' and choiceB == '1':\n",
    "    print('\\nYou both get 2 years.')\n",
    "    \n",
    "elif choiceA == '1' and choiceB == '2':\n",
    "    print('\\nPrisoner A gets 3 years, prisoner B goes free.')\n",
    "    \n",
    "elif choiceA == '2' and choiceB == '1':\n",
    "    print('\\nPrisoner A goes free, prisoner B gets 3 years.')\n",
    "\n",
    "elif choiceA == '2' and choiceB == '2':\n",
    "    print('\\nYou both get 1 year.')\n",
    "    \n",
    "else:\n",
    "    print('INVALID INPUT')"
   ]
  },
  {
   "cell_type": "code",
   "execution_count": 30,
   "id": "4be8331b",
   "metadata": {},
   "outputs": [
    {
     "name": "stdout",
     "output_type": "stream",
     "text": [
      "**********************************\n",
      "Welcome to the Prisoner's Dilemma.\n",
      "**********************************\n",
      "Prisoner A, you are up.\n",
      "Press 1 for \"confess\", press 2 for \"stay silent\": 3\n",
      "Prisoner B, you are up.\n",
      "Press 1 for \"confess\", press 2 for \"stay silent\": 3\n",
      "Invalid input prisoner A!\n",
      "Press 1 for \"confess\", press 2 for \"stay silent\": 1\n",
      "Invalid input prisoner A!\n",
      "Press 1 for \"confess\", press 2 for \"stay silent\": 2\n",
      "\n",
      "Prisoner A gets 3 years, prisoner B goes free.\n"
     ]
    }
   ],
   "source": [
    "# EXERCISE 2 - Boolean flag\n",
    "print('**********************************')\n",
    "print(\"Welcome to the Prisoner's Dilemma.\")\n",
    "print('**********************************')\n",
    "\n",
    "choiceA = input('Prisoner A, you are up.\\nPress 1 for \"confess\", press 2 for \"stay silent\": ')\n",
    "choiceB = input('Prisoner B, you are up.\\nPress 1 for \"confess\", press 2 for \"stay silent\": ')\n",
    "validInputA = False\n",
    "validInputB = False\n",
    "\n",
    "while not validInputA: \n",
    "     # change flag only if input is valid\n",
    "    if choiceA == \"1\" or choiceA == \"2\":\n",
    "        validInputA = True\n",
    "    else:\n",
    "        print(\"Invalid input prisoner A!\")\n",
    "        choiceA = input('Press 1 for \"confess\", press 2 for \"stay silent\": ')\n",
    "        \n",
    "while not validInputB: \n",
    "     # change flag only if input is valid\n",
    "    if choiceB == \"1\" or choiceB == \"2\":\n",
    "        validInputB = True\n",
    "    else:\n",
    "        print(\"Invalid input prisoner B!\")\n",
    "        choiceB = input('Press 1 for \"confess\", press 2 for \"stay silent\": ')\n",
    "\n",
    "# Then printing out the results\n",
    "if choiceA == '1' and choiceB == '1':\n",
    "    print('\\nYou both get 2 years.')\n",
    "    \n",
    "elif choiceA == '1' and choiceB == '2':\n",
    "    print('\\nPrisoner A gets 3 years, prisoner B goes free.')\n",
    "    \n",
    "elif choiceA == '2' and choiceB == '1':\n",
    "    print('\\nPrisoner A goes free, prisoner B gets 3 years.')\n",
    "\n",
    "elif choiceA == '2' and choiceB == '2':\n",
    "    print('\\nYou both get 1 year.')\n"
   ]
  },
  {
   "cell_type": "code",
   "execution_count": null,
   "id": "bd99d0fe",
   "metadata": {},
   "outputs": [
    {
     "name": "stdout",
     "output_type": "stream",
     "text": [
      "*************************************************\n",
      "**** Welcome to the random number generator! ****\n",
      "*************************************************\n",
      "\n",
      "This program draws a random number between an upper and lower bound.\n",
      "Please enter a lower bound: 1\n",
      "Please enter an upper bound: 9\n",
      "2\n",
      "Continue or quit? Type CONTINUE or QUIT5\n",
      "invalid input\n"
     ]
    }
   ],
   "source": [
    "### Exercise 3\n",
    "\n",
    "import random\n",
    "\n",
    "# welcome message\n",
    "print('*'*49)\n",
    "print('**** Welcome to the random number generator! ****')\n",
    "print('*'*49)\n",
    "print('\\nThis program draws a random number between an upper and lower bound.')\n",
    "\n",
    "# get bounds from user\n",
    "lower = int(input('Please enter a lower bound: '))\n",
    "upper = int(input('Please enter an upper bound: '))\n",
    "quit = False\n",
    "rand_num = random.randint(lower, upper)\n",
    "print(rand_num)\n",
    "\n",
    "# Display random numbers within bound and according to draws\n",
    "while quit == False: \n",
    "    \n",
    "    a = input(\"Continue or quit? Type CONTINUE or QUIT\")\n",
    "    if a == \"CONTINUE\": \n",
    "        rand_num = random.randint(lower, upper)\n",
    "        \n",
    "    elif a == \"QUIT\": \n",
    "        print(\"Loop finished\")\n",
    "        quit = True\n",
    "        \n",
    "    else: \n",
    "        print(\"invalid input\")\n",
    "        a = input(\"Continue or quit? Type CONTINUE or QUIT\")\n",
    "    "
   ]
  },
  {
   "cell_type": "code",
   "execution_count": null,
   "id": "76a74c2c",
   "metadata": {},
   "outputs": [],
   "source": []
  }
 ],
 "metadata": {
  "kernelspec": {
   "display_name": "Python 3",
   "language": "python",
   "name": "python3"
  },
  "language_info": {
   "codemirror_mode": {
    "name": "ipython",
    "version": 3
   },
   "file_extension": ".py",
   "mimetype": "text/x-python",
   "name": "python",
   "nbconvert_exporter": "python",
   "pygments_lexer": "ipython3",
   "version": "3.8.8"
  }
 },
 "nbformat": 4,
 "nbformat_minor": 5
}
