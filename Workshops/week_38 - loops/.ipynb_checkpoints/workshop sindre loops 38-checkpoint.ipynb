{
 "cells": [
  {
   "cell_type": "code",
   "execution_count": null,
   "id": "d9baf288",
   "metadata": {},
   "outputs": [],
   "source": [
    "### Alternative 1 (random module + nested if-else statement)\n",
    "\n",
    "import random\n",
    "\n",
    "# welcome message\n",
    "print('*'*49)\n",
    "print('**** Welcome to the random number generator! ****')\n",
    "print('*'*49)\n",
    "print('\\nThis program draws a random number between an upper and lower bound.')\n",
    "\n",
    "# get bounds from user\n",
    "lower = input('Please enter a lower bound: ')\n",
    "upper = input('Please enter an upper bound: ')\n",
    "draws = input(\"Please enter number of draws: \")\n",
    "\n",
    "# check that the user has entered digits only\n",
    "if lower.isdigit() and upper.isdigit():\n",
    "    \n",
    "    # convert inputs to int\n",
    "    lower = int(lower)\n",
    "    upper = int(upper)\n",
    "    \n",
    "    # check that the user has entered valid bounds\n",
    "    if lower > upper:\n",
    "        print('\\nInvalid inputs!')\n",
    "        print('You must enter a lower bound that is lower than the upper bound.')\n",
    "    \n",
    "    else:\n",
    "        # draw random number\n",
    "        rand_num = random.randint(lower, upper)\n",
    "        print('\\nYou asked for a random number between {} and {}.'.format(lower, upper))\n",
    "        print('Your random draw is... {}!'.format(rand_num))\n",
    "    \n",
    "else:\n",
    "    print('\\nInvalid inputs!')\n",
    "    print('You can only enter whole numbers.')"
   ]
  }
 ],
 "metadata": {
  "kernelspec": {
   "display_name": "Python 3",
   "language": "python",
   "name": "python3"
  },
  "language_info": {
   "codemirror_mode": {
    "name": "ipython",
    "version": 3
   },
   "file_extension": ".py",
   "mimetype": "text/x-python",
   "name": "python",
   "nbconvert_exporter": "python",
   "pygments_lexer": "ipython3",
   "version": "3.8.8"
  }
 },
 "nbformat": 4,
 "nbformat_minor": 5
}
